{
 "cells": [
  {
   "cell_type": "markdown",
   "id": "c1bca411",
   "metadata": {},
   "source": [
    "Q.1) You are writing code for a company. The requirement of the company is that you create a python function that will check whether the passowrd entered by the user is correct or not. The function should take the password as input and return the string \"Valid Password\" if the entered password follows the below-given password guidelines else it should return \"Invalid Password\".\n",
    "\n",
    "Note : 1. The password should contain atleast two uppercase letters and at least two lowercase letters.\n",
    "2. The password should contain at least a number and three special characters.\n",
    "3. The length of the password should be 10 characters long\n",
    "\n"
   ]
  },
  {
   "cell_type": "code",
   "execution_count": 3,
   "id": "27275c81",
   "metadata": {},
   "outputs": [
    {
     "name": "stdout",
     "output_type": "stream",
     "text": [
      "Enter Your PasswordAmish___$1\n",
      "Invalid Password\n"
     ]
    }
   ],
   "source": [
    "s=input(\"Enter Your Password\")\n",
    "\n",
    "uc,lc,n,spc=0,0,0,0\n",
    "\n",
    "for i in s:\n",
    "    if i.isupper():\n",
    "        uc=uc+1\n",
    "    elif i.islower():\n",
    "        lc=lc+1\n",
    "    elif i.isnumeric():\n",
    "        n=n+1\n",
    "    else:\n",
    "        spc=spc+1\n",
    "\n",
    "if len(s)==10 and uc>=2 and lc>=2 and n>=1 and spc==3:\n",
    "    print(\"Valid Password\")\n",
    "else:\n",
    "    print(\"Invalid Password\")"
   ]
  },
  {
   "cell_type": "markdown",
   "id": "d954fcbe",
   "metadata": {},
   "source": [
    "Q.2) Solve the below-given questions using atleast one of the following:\n",
    "    1. lambda function\n",
    "    2. filter function\n",
    "    3. map function\n",
    "    4. list comprehension\n",
    "    "
   ]
  },
  {
   "cell_type": "markdown",
   "id": "6ac30acf",
   "metadata": {},
   "source": [
    "i) Check if the string starts with a particular letter."
   ]
  },
  {
   "cell_type": "code",
   "execution_count": 4,
   "id": "88f889e3",
   "metadata": {},
   "outputs": [],
   "source": [
    "## using "
   ]
  },
  {
   "cell_type": "markdown",
   "id": "a5a16081",
   "metadata": {},
   "source": [
    "ii) Check if the string is numeric"
   ]
  },
  {
   "cell_type": "code",
   "execution_count": null,
   "id": "4af6beaf",
   "metadata": {},
   "outputs": [],
   "source": []
  }
 ],
 "metadata": {
  "kernelspec": {
   "display_name": "Python 3 (ipykernel)",
   "language": "python",
   "name": "python3"
  },
  "language_info": {
   "codemirror_mode": {
    "name": "ipython",
    "version": 3
   },
   "file_extension": ".py",
   "mimetype": "text/x-python",
   "name": "python",
   "nbconvert_exporter": "python",
   "pygments_lexer": "ipython3",
   "version": "3.9.13"
  }
 },
 "nbformat": 4,
 "nbformat_minor": 5
}
