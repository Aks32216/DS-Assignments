{
 "cells": [
  {
   "cell_type": "markdown",
   "id": "f0eae383",
   "metadata": {},
   "source": [
    "Q.1) Create a vehicle class with an init method having instance variable as name_of_vehicle,max_speed and average_of_vehicle."
   ]
  },
  {
   "cell_type": "code",
   "execution_count": 1,
   "id": "915ad40b",
   "metadata": {},
   "outputs": [],
   "source": [
    "class Vehicle:\n",
    "    def __init__(self,name_of_vehicle,max_speed,average_of_vehicle):\n",
    "        self.name_of_vehicle=name_of_vehicle\n",
    "        self.max_speed=max_speed\n",
    "        self.average_of_vehicle=average_of_vehicle\n",
    "        \n"
   ]
  },
  {
   "cell_type": "markdown",
   "id": "bca9d6e6",
   "metadata": {},
   "source": [
    "Q.2) Create a child class car from the vehicle calss crated in Que 1, which will inherit the vehicle class. Create a method named seating_capacity which takes capacity as an argument and return the name of the vechcle and its seating capacity."
   ]
  },
  {
   "cell_type": "code",
   "execution_count": 2,
   "id": "7b4aaeef",
   "metadata": {},
   "outputs": [],
   "source": [
    "class Car(Vehicle):\n",
    "    \n",
    "    def seating_capacity(self,capacity):\n",
    "        return [self.name_of_vehicle,capacity]"
   ]
  },
  {
   "cell_type": "code",
   "execution_count": 4,
   "id": "e482d57c",
   "metadata": {},
   "outputs": [],
   "source": [
    "c1=Car(\"Toyota\",120,75)"
   ]
  },
  {
   "cell_type": "code",
   "execution_count": 5,
   "id": "2003e053",
   "metadata": {},
   "outputs": [
    {
     "data": {
      "text/plain": [
       "['Toyota', 4]"
      ]
     },
     "execution_count": 5,
     "metadata": {},
     "output_type": "execute_result"
    }
   ],
   "source": [
    "c1.seating_capacity(4)"
   ]
  },
  {
   "cell_type": "markdown",
   "id": "13cbb3a4",
   "metadata": {},
   "source": [
    "Q.3) What is multiple inheritance? Write a python code to demonstrate multiple inheritance."
   ]
  },
  {
   "cell_type": "markdown",
   "id": "4d57ac70",
   "metadata": {},
   "source": [
    "Ans) Multiple inheritance is a type of inheritance in which a child class can inherit from multiple base class.\n"
   ]
  },
  {
   "cell_type": "code",
   "execution_count": 6,
   "id": "1b409fb2",
   "metadata": {},
   "outputs": [
    {
     "name": "stdout",
     "output_type": "stream",
     "text": [
      "Mammals can give direct birth.\n",
      "Winged animals can flap.\n"
     ]
    }
   ],
   "source": [
    "class Mammal:\n",
    "    def mammal_info(self):\n",
    "        print(\"Mammals can give direct birth.\")\n",
    "\n",
    "class WingedAnimal:\n",
    "    def winged_animal_info(self):\n",
    "        print(\"Winged animals can flap.\")\n",
    "\n",
    "class Bat(Mammal, WingedAnimal):\n",
    "    pass\n",
    "\n",
    "# create an object of Bat class\n",
    "b1 = Bat()\n",
    "\n",
    "b1.mammal_info()\n",
    "b1.winged_animal_info()"
   ]
  },
  {
   "cell_type": "markdown",
   "id": "a722ca6b",
   "metadata": {},
   "source": [
    "Q.4) What are getter and setter in python? Create a class and create a getter and a setter method in this class."
   ]
  },
  {
   "cell_type": "markdown",
   "id": "805bd3aa",
   "metadata": {},
   "source": [
    "Ans) Getter methods are methods inside class which are used to get the values of instance variable of a object.\n",
    "\n",
    "Setter methods are methods inside class which are used to set the values of instance variable of a object."
   ]
  },
  {
   "cell_type": "code",
   "execution_count": 7,
   "id": "fe2ff20b",
   "metadata": {},
   "outputs": [
    {
     "name": "stdout",
     "output_type": "stream",
     "text": [
      "300\n",
      "15\n",
      "20\n",
      "1125\n",
      "25\n",
      "45\n"
     ]
    }
   ],
   "source": [
    "class Rectangle:\n",
    "    def __init__(self,length,breadth):\n",
    "        self.length=length\n",
    "        self.breadth=breadth\n",
    "        \n",
    "    def setLength(self,length):\n",
    "        self.length=length\n",
    "        \n",
    "    def setBreadth(self,breadth):\n",
    "        self.breadth=breadth\n",
    "        \n",
    "    def getLength(self):\n",
    "        return self.length\n",
    "    \n",
    "    def getBreadth(self):\n",
    "        return self.breadth\n",
    "    \n",
    "    def getArea(self):\n",
    "        return self.length*self.breadth\n",
    "    \n",
    "r1=Rectangle(15,20)\n",
    "print(r1.getArea())\n",
    "print(r1.getLength())\n",
    "print(r1.getBreadth())\n",
    "\n",
    "r1.setLength(25)\n",
    "r1.setBreadth(45)\n",
    "\n",
    "print(r1.getArea())\n",
    "print(r1.getLength())\n",
    "print(r1.getBreadth())"
   ]
  },
  {
   "cell_type": "markdown",
   "id": "4863efc2",
   "metadata": {},
   "source": [
    "Q.5) What is method overriding in python? Write a python program to demonstrate method overriding."
   ]
  },
  {
   "cell_type": "markdown",
   "id": "67f50462",
   "metadata": {},
   "source": [
    "Ans) Overriding is a concept to provide the re-implementation of already existing functions in parent class.\n",
    "Inside class they are gererally done with the help of magic functions when we need to override built-in functions. and for user defined function, we need to define them."
   ]
  },
  {
   "cell_type": "code",
   "execution_count": 8,
   "id": "99452c5a",
   "metadata": {},
   "outputs": [
    {
     "name": "stdout",
     "output_type": "stream",
     "text": [
      "Inside Parent\n",
      "Inside Child\n"
     ]
    }
   ],
   "source": [
    "class Parent():\n",
    "    # Constructor\n",
    "    def __init__(self):\n",
    "        self.value = \"Inside Parent\"\n",
    "          \n",
    "    # Parent's show method\n",
    "    def show(self):\n",
    "        print(self.value)\n",
    "          \n",
    "# Defining child class\n",
    "class Child(Parent):\n",
    "      \n",
    "    # Constructor\n",
    "    def __init__(self):\n",
    "        self.value = \"Inside Child\"\n",
    "          \n",
    "    # Child's show method\n",
    "    def show(self):\n",
    "        print(self.value)\n",
    "          \n",
    "          \n",
    "# Driver's code\n",
    "obj1 = Parent()\n",
    "obj2 = Child()\n",
    "  \n",
    "obj1.show()\n",
    "obj2.show()"
   ]
  },
  {
   "cell_type": "code",
   "execution_count": null,
   "id": "e4e2e021",
   "metadata": {},
   "outputs": [],
   "source": []
  }
 ],
 "metadata": {
  "kernelspec": {
   "display_name": "Python 3 (ipykernel)",
   "language": "python",
   "name": "python3"
  },
  "language_info": {
   "codemirror_mode": {
    "name": "ipython",
    "version": 3
   },
   "file_extension": ".py",
   "mimetype": "text/x-python",
   "name": "python",
   "nbconvert_exporter": "python",
   "pygments_lexer": "ipython3",
   "version": "3.9.13"
  }
 },
 "nbformat": 4,
 "nbformat_minor": 5
}
