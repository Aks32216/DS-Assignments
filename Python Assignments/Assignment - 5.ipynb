{
 "cells": [
  {
   "cell_type": "markdown",
   "id": "26cc50e2",
   "metadata": {},
   "source": [
    "Q.1) Create a python to sort the given lilst of tuples based on integer value using a lambda function.\n",
    "\n",
    "[('sachin Tendulkar',34357),('Ricky Ponting',27483),('Jack Kallis',25534),('Virat Kohli',24936)]"
   ]
  },
  {
   "cell_type": "code",
   "execution_count": 1,
   "id": "5fd50f4c",
   "metadata": {},
   "outputs": [],
   "source": [
    "l=[('sachin Tendulkar',34357),('Ricky Ponting',27483),('Jack Kallis',25534),('Virat Kohli',24936)]"
   ]
  },
  {
   "cell_type": "code",
   "execution_count": 2,
   "id": "4791c0c6",
   "metadata": {},
   "outputs": [
    {
     "data": {
      "text/plain": [
       "[('sachin Tendulkar', 34357),\n",
       " ('Ricky Ponting', 27483),\n",
       " ('Jack Kallis', 25534),\n",
       " ('Virat Kohli', 24936)]"
      ]
     },
     "execution_count": 2,
     "metadata": {},
     "output_type": "execute_result"
    }
   ],
   "source": [
    "l"
   ]
  },
  {
   "cell_type": "code",
   "execution_count": 5,
   "id": "34e6890f",
   "metadata": {},
   "outputs": [],
   "source": [
    "l.sort(key=lambda x:x[1])"
   ]
  },
  {
   "cell_type": "code",
   "execution_count": 6,
   "id": "eeaa09b6",
   "metadata": {},
   "outputs": [
    {
     "data": {
      "text/plain": [
       "[('Virat Kohli', 24936),\n",
       " ('Jack Kallis', 25534),\n",
       " ('Ricky Ponting', 27483),\n",
       " ('sachin Tendulkar', 34357)]"
      ]
     },
     "execution_count": 6,
     "metadata": {},
     "output_type": "execute_result"
    }
   ],
   "source": [
    "l"
   ]
  },
  {
   "cell_type": "markdown",
   "id": "29b42555",
   "metadata": {},
   "source": [
    "Q.2) Write a python program to find the squares of all the numbers in the given list of integers using lambda and map functions.\n",
    "\n",
    "[1,2,3,4,5,6,7,8,9,10]"
   ]
  },
  {
   "cell_type": "code",
   "execution_count": 8,
   "id": "7c4de00e",
   "metadata": {},
   "outputs": [
    {
     "name": "stdout",
     "output_type": "stream",
     "text": [
      "[1, 4, 9, 16, 25, 36, 49, 64, 81, 100]\n"
     ]
    }
   ],
   "source": [
    "l=[1,2,3,4,5,6,7,8,9,10]\n",
    "\n",
    "squared_list=list(map(lambda x:x**2,l))\n",
    "\n",
    "print(squared_list)"
   ]
  },
  {
   "cell_type": "markdown",
   "id": "0dcf7c3a",
   "metadata": {},
   "source": [
    "Q.3) Write a python program to convert the given llist of integers into a tuple of strings. use map and lampda functions\n",
    "\n",
    "[1,2,3,4,5,6,7,8,9,10]"
   ]
  },
  {
   "cell_type": "code",
   "execution_count": 9,
   "id": "d640a4c4",
   "metadata": {},
   "outputs": [
    {
     "name": "stdout",
     "output_type": "stream",
     "text": [
      "('1', '2', '3', '4', '5', '6', '7', '8', '9', '10')\n"
     ]
    }
   ],
   "source": [
    "l=[1,2,3,4,5,6,7,8,9,10]\n",
    "\n",
    "string_tuple=tuple(map(lambda x:str(x),l))\n",
    "\n",
    "print(string_tuple)"
   ]
  },
  {
   "cell_type": "markdown",
   "id": "08317f47",
   "metadata": {},
   "source": [
    "Q.4) Write a python program using reduce function to compute the product of a list containing numbers from 1 to 25"
   ]
  },
  {
   "cell_type": "code",
   "execution_count": 10,
   "id": "8a3cb5da",
   "metadata": {},
   "outputs": [
    {
     "name": "stdout",
     "output_type": "stream",
     "text": [
      "15511210043330985984000000\n"
     ]
    }
   ],
   "source": [
    "from functools import reduce\n",
    "\n",
    "l=[i for i in range(1,26)]\n",
    "\n",
    "x=reduce(lambda x,y:x*y,l)\n",
    "\n",
    "print(x)"
   ]
  },
  {
   "cell_type": "markdown",
   "id": "5fbce946",
   "metadata": {},
   "source": [
    "Q.5) Write a python program to filter the numbers in a given list that are divisible by 2 and 3 using the filter function.\n",
    "\n",
    "[2,3,6,9,27,60,90,120,55,46]"
   ]
  },
  {
   "cell_type": "code",
   "execution_count": 11,
   "id": "912da779",
   "metadata": {},
   "outputs": [
    {
     "name": "stdout",
     "output_type": "stream",
     "text": [
      "[6, 60, 90, 120]\n"
     ]
    }
   ],
   "source": [
    "l=[2,3,6,9,27,60,90,120,55,46]\n",
    "\n",
    "divBy2And3=list(filter(lambda x: x%2==0 and x%3==0,l))\n",
    "\n",
    "print(divBy2And3)"
   ]
  },
  {
   "cell_type": "markdown",
   "id": "9c0dcbba",
   "metadata": {},
   "source": []
  },
  {
   "cell_type": "markdown",
   "id": "5d27d4b3",
   "metadata": {},
   "source": [
    "Q.6) Write a python program to find palindromes in the given list of strings using lambda and filter function.\n",
    "\n",
    "['python','php','aba','radar','level']"
   ]
  },
  {
   "cell_type": "code",
   "execution_count": 13,
   "id": "2bff5121",
   "metadata": {},
   "outputs": [
    {
     "name": "stdout",
     "output_type": "stream",
     "text": [
      "['php', 'aba', 'radar', 'level', 'abhba']\n"
     ]
    }
   ],
   "source": [
    "l=['python','php','aba','radar','level','amish','pwskills','abhba']\n",
    "\n",
    "palindromeList=list(filter(lambda x: x[0::1]==x[-1::-1],l))\n",
    "\n",
    "print(palindromeList)"
   ]
  },
  {
   "cell_type": "code",
   "execution_count": null,
   "id": "cf55f7d8",
   "metadata": {},
   "outputs": [],
   "source": []
  }
 ],
 "metadata": {
  "kernelspec": {
   "display_name": "Python 3 (ipykernel)",
   "language": "python",
   "name": "python3"
  },
  "language_info": {
   "codemirror_mode": {
    "name": "ipython",
    "version": 3
   },
   "file_extension": ".py",
   "mimetype": "text/x-python",
   "name": "python",
   "nbconvert_exporter": "python",
   "pygments_lexer": "ipython3",
   "version": "3.9.13"
  }
 },
 "nbformat": 4,
 "nbformat_minor": 5
}
