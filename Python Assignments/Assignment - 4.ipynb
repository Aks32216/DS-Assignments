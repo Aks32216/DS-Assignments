{
 "cells": [
  {
   "cell_type": "markdown",
   "id": "3dfd0bdc",
   "metadata": {},
   "source": [
    "Q.1) Which keyword is used to create a function? Create a function to return a list of odd numbers in the range of 1 to 25."
   ]
  },
  {
   "cell_type": "markdown",
   "id": "e92d90f6",
   "metadata": {},
   "source": [
    "Ans) def keyword is used to define a function. it tell the interpreter that this block of code belongs to a function and after the def keyword function name is provided by which function code is reffered. Function takes in arguments which are input to function.\n",
    "\n",
    "Syntax of a function is as follows:\n",
    "\n",
    "def function_name(parameter list):\n",
    "    function body\n",
    "    \n",
    " "
   ]
  },
  {
   "cell_type": "code",
   "execution_count": 1,
   "id": "8ce90655",
   "metadata": {},
   "outputs": [
    {
     "data": {
      "text/plain": [
       "[1, 3, 5, 7, 9, 11, 13, 15, 17, 19, 21, 23, 25]"
      ]
     },
     "execution_count": 1,
     "metadata": {},
     "output_type": "execute_result"
    }
   ],
   "source": [
    "def findOdd():\n",
    "    l=[]\n",
    "    for i in range(1,26):\n",
    "        if i&1:\n",
    "            l.append(i)\n",
    "    return l\n",
    "\n",
    "findOdd()"
   ]
  },
  {
   "cell_type": "markdown",
   "id": "e131a289",
   "metadata": {},
   "source": [
    "Q.2) Why *args and **kwargs is usde in some functions? Create a function each for *args and **kwargs to demonstrate their use."
   ]
  },
  {
   "cell_type": "markdown",
   "id": "0181014c",
   "metadata": {},
   "source": [
    "Ans) There are two types of arguments inside python-\n",
    "i) positional argument which are passed simply with their value or name\n",
    "ii) keyword argument which are passed with both their name and value \n",
    "\n",
    "Now in a function user can provide any number of arguments.\n",
    "To handle dynamic positional arguments inside function *args is used.\n",
    "and to handle dynamic keyword arguments inside function **kwargs is used."
   ]
  },
  {
   "cell_type": "code",
   "execution_count": 4,
   "id": "00d10628",
   "metadata": {},
   "outputs": [
    {
     "name": "stdout",
     "output_type": "stream",
     "text": [
      "20\n",
      "6\n",
      "1360\n"
     ]
    }
   ],
   "source": [
    "## addition function with *args can handle any number of positional argument\n",
    "\n",
    "def addition(*args):\n",
    "    additionValue=0\n",
    "    for i in args:\n",
    "        additionValue+=i\n",
    "    return additionValue\n",
    "\n",
    "## addition value is able to handle any number of positional argument dynamically\n",
    "print(addition(1,2,3,4,5,5))\n",
    "print(addition(1,2,3))\n",
    "print(addition(23,54,54,55,44,33,44,55,444,554))"
   ]
  },
  {
   "cell_type": "code",
   "execution_count": 17,
   "id": "2bb9eec4",
   "metadata": {},
   "outputs": [
    {
     "name": "stdout",
     "output_type": "stream",
     "text": [
      "a = 2   b = 4   c = 90   v = 65   b = 65   r = 98   p = 43   j = 987   "
     ]
    }
   ],
   "source": [
    "## dynamic handling of keyword argument with **kwargs\n",
    "\n",
    "def display(**kwargs):\n",
    "    for key,value in kwargs.items():\n",
    "        print(key,\"=\",value,end=\"   \")\n",
    "        \n",
    "display(a=2,b=4,c=90)\n",
    "display(v=65,b=65,r=98,p=43,j=987)"
   ]
  },
  {
   "cell_type": "markdown",
   "id": "731a284f",
   "metadata": {},
   "source": [
    "Q.3) What is an iterator in python? Name the method used to initialise the iterator object and the method used for iteration. use these methods to print the first five element of the given list [2,4,6,8,10,12,14,16,18,20]"
   ]
  },
  {
   "cell_type": "markdown",
   "id": "a350ce62",
   "metadata": {},
   "source": [
    "Ans) Iterator is an object that can be iterated upon or we can traverse through the values of it and returns elements one by one.\n",
    "\n",
    "iter() function is used to intialize and iterator. but a container which is iterable in nature can only be converted to iterator. for eg: list, tuple, set, dictionary, string are iterable in nature and hence on passing them through iter() function, their iterator would be returned but int,float,complex are not iterable and hence when passed to iter() function would produce an error.\n",
    "\n",
    "next() function is used for iteration through iterator. next() function fetches the next elelemt from the iterator untill all the elements of the iterator are exhausted."
   ]
  },
  {
   "cell_type": "code",
   "execution_count": 18,
   "id": "8e24dc9d",
   "metadata": {},
   "outputs": [
    {
     "name": "stdout",
     "output_type": "stream",
     "text": [
      "<class 'list_iterator'>\n",
      "4\n",
      "8\n",
      "12\n",
      "16\n",
      "20\n"
     ]
    }
   ],
   "source": [
    "l=[2,4,6,8,10,12,14,16,18,20]\n",
    "i_iterator=iter(l)\n",
    "\n",
    "print(type(i_iterator))\n",
    "\n",
    "for i in i_iterator:\n",
    "    print(next(i_iterator))"
   ]
  },
  {
   "cell_type": "markdown",
   "id": "c15c2edf",
   "metadata": {},
   "source": [
    "Q.4) What is a generator function in python? Why yield keyword is used? Give an example of generator function?\n"
   ]
  },
  {
   "cell_type": "markdown",
   "id": "57b738bc",
   "metadata": {},
   "source": [
    "Ans) Generator function is also a type of function. But in traditional function values are first calculated and then returned all at once. But in gererator function it gerates value one by one and calculated other value only when it is required.\n",
    "\n",
    "This can be useful when we want to generate a huge number of list. in this case a traditional function would first calculate all the values and return a huge list of numbers which will consume a lot of memeory. But generator function will calculate the value and return it only when the value is required one by one and thus saves memory.\n",
    "\n",
    "yield keyword is same as return keyword but with a slight difference. both of them returns value from the function but yield keyword stops function execution where it is encountered and returns the value and it also save the context of local variables so when next value is asked for it starts function execution from where it had stopped function execution.\n",
    "but return keyword starts function from start without saving the context of local variable.\n"
   ]
  },
  {
   "cell_type": "code",
   "execution_count": 20,
   "id": "d7f53dd3",
   "metadata": {},
   "outputs": [
    {
     "name": "stdout",
     "output_type": "stream",
     "text": [
      "0\n",
      "1\n",
      "1\n",
      "2\n",
      "3\n",
      "5\n",
      "8\n",
      "13\n",
      "21\n",
      "34\n",
      "55\n",
      "89\n",
      "144\n",
      "233\n"
     ]
    }
   ],
   "source": [
    "## for example if we want fibonnaci number then we can use generator function\n",
    "\n",
    "def fibonacci():\n",
    "    a,b=0,1\n",
    "    while True:\n",
    "        yield a\n",
    "        a,b=b,a+b\n",
    "\n",
    "fib=fibonacci()\n",
    "        \n",
    "for i in range(1,15):\n",
    "    print(next(fib))"
   ]
  },
  {
   "cell_type": "markdown",
   "id": "35aa9ce6",
   "metadata": {},
   "source": [
    "Q.5) Create a generator function for prime numbers less than 1000. Use the next() method to print the first 20 prime numbers."
   ]
  },
  {
   "cell_type": "code",
   "execution_count": 25,
   "id": "e5d99710",
   "metadata": {},
   "outputs": [
    {
     "name": "stdout",
     "output_type": "stream",
     "text": [
      "2\n",
      "3\n",
      "5\n",
      "7\n",
      "11\n",
      "13\n",
      "17\n",
      "19\n",
      "23\n",
      "29\n",
      "31\n",
      "37\n",
      "41\n",
      "43\n",
      "47\n",
      "53\n",
      "59\n",
      "61\n",
      "67\n",
      "71\n"
     ]
    }
   ],
   "source": [
    "def isPrime(n):\n",
    "    i=2\n",
    "    while i*i<=n:\n",
    "        if n%i==0:\n",
    "            return False\n",
    "        i=i+1\n",
    "    return True\n",
    "\n",
    "def findPrimes(n):\n",
    "    i=2\n",
    "    while i<=n:\n",
    "        if isPrime(i):\n",
    "            yield i\n",
    "        i=i+1\n",
    "\n",
    "primes=findPrimes(1000)\n",
    "\n",
    "for i in range(1,21):\n",
    "    print(next(primes))"
   ]
  },
  {
   "cell_type": "markdown",
   "id": "bb8b1d20",
   "metadata": {},
   "source": [
    "Q.6) Write a python program to print the first 10 Fibonacci numbers using a while loop."
   ]
  },
  {
   "cell_type": "code",
   "execution_count": 26,
   "id": "55e510d0",
   "metadata": {},
   "outputs": [
    {
     "name": "stdout",
     "output_type": "stream",
     "text": [
      "0\n",
      "1\n",
      "1\n",
      "2\n",
      "3\n",
      "5\n",
      "8\n",
      "13\n",
      "21\n",
      "34\n",
      "55\n"
     ]
    }
   ],
   "source": [
    "a=0\n",
    "b=1\n",
    "\n",
    "count=0\n",
    "\n",
    "while count<=10:\n",
    "    print(a)\n",
    "    a,b=b,a+b\n",
    "    count=count+1\n"
   ]
  },
  {
   "cell_type": "markdown",
   "id": "285c7f6a",
   "metadata": {},
   "source": [
    "Q.7) Write a list comprehension to iterate through the given string: 'pwskills'."
   ]
  },
  {
   "cell_type": "code",
   "execution_count": 28,
   "id": "afe68382",
   "metadata": {},
   "outputs": [
    {
     "name": "stdout",
     "output_type": "stream",
     "text": [
      "['p', 'w', 's', 'k', 'i', 'l', 'l', 's']\n"
     ]
    }
   ],
   "source": [
    "s='pwskills'\n",
    "\n",
    "m=[i for i in s]\n",
    "\n",
    "print(m)"
   ]
  },
  {
   "cell_type": "markdown",
   "id": "25f9cd21",
   "metadata": {},
   "source": [
    "Q.8) Write a python program to check whether a given number is Palindrome or not using a while loop."
   ]
  },
  {
   "cell_type": "code",
   "execution_count": 31,
   "id": "c0cd59fd",
   "metadata": {},
   "outputs": [
    {
     "name": "stdout",
     "output_type": "stream",
     "text": [
      "Enter your number1554551\n",
      "Your Number is a Palilndrome Number\n"
     ]
    }
   ],
   "source": [
    "n=int(input(\"Enter your number\"))\n",
    "\n",
    "m=n\n",
    "reverse=0\n",
    "\n",
    "while m>0:\n",
    "    reverse=reverse*10+m%10\n",
    "    m=m//10\n",
    "\n",
    "if reverse==n:\n",
    "    print(\"Your Number is a Palilndrome Number\")\n",
    "else:\n",
    "    print(\"Your Number is not a Palindrome Number\")"
   ]
  },
  {
   "cell_type": "markdown",
   "id": "8779032b",
   "metadata": {},
   "source": [
    "Q.9) Write a code to print odd numbers from 1 to 100 using list comprehension.\n"
   ]
  },
  {
   "cell_type": "code",
   "execution_count": 33,
   "id": "00fa6079",
   "metadata": {},
   "outputs": [
    {
     "name": "stdout",
     "output_type": "stream",
     "text": [
      "[1, 3, 5, 7, 9, 11, 13, 15, 17, 19, 21, 23, 25, 27, 29, 31, 33, 35, 37, 39, 41, 43, 45, 47, 49, 51, 53, 55, 57, 59, 61, 63, 65, 67, 69, 71, 73, 75, 77, 79, 81, 83, 85, 87, 89, 91, 93, 95, 97, 99]\n"
     ]
    }
   ],
   "source": [
    "l1=[i for i in range(1,101)]\n",
    "\n",
    "l2=[i for i in l1 if i&1]\n",
    "\n",
    "print(l2)"
   ]
  },
  {
   "cell_type": "code",
   "execution_count": null,
   "id": "2c7f6de7",
   "metadata": {},
   "outputs": [],
   "source": []
  }
 ],
 "metadata": {
  "kernelspec": {
   "display_name": "Python 3 (ipykernel)",
   "language": "python",
   "name": "python3"
  },
  "language_info": {
   "codemirror_mode": {
    "name": "ipython",
    "version": 3
   },
   "file_extension": ".py",
   "mimetype": "text/x-python",
   "name": "python",
   "nbconvert_exporter": "python",
   "pygments_lexer": "ipython3",
   "version": "3.9.13"
  }
 },
 "nbformat": 4,
 "nbformat_minor": 5
}
