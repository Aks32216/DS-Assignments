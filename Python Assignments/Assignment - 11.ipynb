{
 "cells": [
  {
   "cell_type": "markdown",
   "id": "a6c47565",
   "metadata": {},
   "source": [
    "Q.1) Which function is used to open a file? What are the diffrent modes of opening a file? Explain each mode of file opening."
   ]
  },
  {
   "cell_type": "markdown",
   "id": "869acf7c",
   "metadata": {},
   "source": [
    "Ans) open() function is used to open a file, if possible, and returns a file object.\n",
    "Syntax:\n",
    "open(location of file,mode)\n",
    "\n",
    "The various modes of opening a file includes -\n",
    "1) r (read mode) - this mode opens the file for reading. if file does not exist then returns a error.\n",
    "\n",
    "2) w (write mode) - this mode opens the file for writing. if file does not exist then it creates a new file and then opens it in writing mode. I overrides the content of file if any content is already present in file.\n",
    "\n",
    "3) a (append mode) - this mode is used to open the file and returns a file object pointing to end of file. it helps to write into the file. if file does not exist then it creates a new file and return a object of it.\n",
    "\n",
    "4) t (text mode) - it opens the file in text mode. it is the default mode of opening a file.\n",
    "\n",
    "5) b (binary mode) - it opens the file in binary mode.\n",
    "\n",
    "6) x (exclusive creation) - it is exclusively used to create a file. if the file exist then error is thrown.\n"
   ]
  },
  {
   "cell_type": "markdown",
   "id": "2aa9ce36",
   "metadata": {},
   "source": [
    "Q.2) Why close() function is used? Why is it important to close a file?\n"
   ]
  },
  {
   "cell_type": "markdown",
   "id": "c1ada55e",
   "metadata": {},
   "source": [
    "Ans) close() function is used to close the file. it returns a noneType and closes the file. \n",
    "This function is important to use as it helps to prevent the unwanted access to the file data even if we do not want any data to be read or to be written into file."
   ]
  },
  {
   "cell_type": "markdown",
   "id": "09e3cda6",
   "metadata": {},
   "source": [
    "Q3). Write a python program to create a text file. Write 'I want to become a Data Scientist' in that file. Then close the file. Open this file and read the content of the file.\n"
   ]
  },
  {
   "cell_type": "code",
   "execution_count": 4,
   "id": "88cd3bbb",
   "metadata": {},
   "outputs": [
    {
     "name": "stdout",
     "output_type": "stream",
     "text": [
      "I want to become a Data Scientist\n"
     ]
    }
   ],
   "source": [
    "with open('test.txt','w') as f:\n",
    "    f.write(\"I want to become a Data Scientist\")\n",
    "    \n",
    "with open('test.txt','r') as f:\n",
    "    data=f.read()\n",
    "    print(data)"
   ]
  },
  {
   "cell_type": "markdown",
   "id": "4119e27c",
   "metadata": {},
   "source": [
    "Q.4) Explain the following with python code: read(), readline() and readlines()"
   ]
  },
  {
   "cell_type": "code",
   "execution_count": 17,
   "id": "f7dadab2",
   "metadata": {},
   "outputs": [
    {
     "name": "stdout",
     "output_type": "stream",
     "text": [
      "Output for read() function\n",
      "\n",
      "Welcome! Are you completely new to programming? If not then we presume you will be looking for information about why and how to get started with Python. Fortunately an experienced programmer in any programming language (whatever it may be) can pick up Python very quickly. It's also easy for beginners to use and learn, so jump in!\n",
      "Installing Python is generally easy, and nowadays many Linux and UNIX distributions include a recent Python. Even some Windows computers (notably those from HP) now come with Python already installed. If you do need to install Python and aren't confident about the task you can find a few notes on the BeginnersGuide/Download wiki page, but installation is unremarkable on most platforms.\n",
      "Before getting started, you may want to find out which IDEs and text editors are tailored to make Python editing easy, browse the list of introductory books, or look at code samples that you might find helpful.\n",
      "The online documentation is your first port of call for definitive information. There is a fairly brief tutorial that gives you basic information about the language and gets you started. You can follow this by looking at the library reference for a full description of Python's many libraries and the language reference for a complete (though somewhat dry) explanation of Python's syntax. If you are looking for common Python recipes and patterns, you can browse the ActiveState Python Cookbook\n",
      "\n",
      "Output for readline() function\n",
      "\n",
      "Welcome! Are you completely new to programming? If not then we presume you will be looking for information about why and how to get started with Python. Fortunately an experienced programmer in any programming language (whatever it may be) can pick up Python very quickly. It's also easy for beginners to use and learn, so jump in!\n",
      "\n",
      "\n",
      "Installing Python is generally easy, and nowadays many Linux and UNIX distributions include a recent Python. Even some Windows computers (notably those from HP) now come with Python already installed. If you do need to install Python and aren't confident about the task you can find a few notes on the BeginnersGuide/Download wiki page, but installation is unremarkable on most platforms.\n",
      "\n",
      "\n",
      "Before getting started, you may want to find out which IDEs and text editors are tailored to make Python editing easy, browse the list of introductory books, or look at code samples that you might find helpful.\n",
      "\n",
      "\n",
      "The online documentation is your first port of call for definitive information. There is a fairly brief tutorial that gives you basic information about the language and gets you started. You can follow this by looking at the library reference for a full description of Python's many libraries and the language reference for a complete (though somewhat dry) explanation of Python's syntax. If you are looking for common Python recipes and patterns, you can browse the ActiveState Python Cookbook\n",
      "\n",
      "\n",
      "Output for readlines() funciton\n",
      "\n",
      "[\"Welcome! Are you completely new to programming? If not then we presume you will be looking for information about why and how to get started with Python. Fortunately an experienced programmer in any programming language (whatever it may be) can pick up Python very quickly. It's also easy for beginners to use and learn, so jump in!\\n\", \"Installing Python is generally easy, and nowadays many Linux and UNIX distributions include a recent Python. Even some Windows computers (notably those from HP) now come with Python already installed. If you do need to install Python and aren't confident about the task you can find a few notes on the BeginnersGuide/Download wiki page, but installation is unremarkable on most platforms.\\n\", 'Before getting started, you may want to find out which IDEs and text editors are tailored to make Python editing easy, browse the list of introductory books, or look at code samples that you might find helpful.\\n', \"The online documentation is your first port of call for definitive information. There is a fairly brief tutorial that gives you basic information about the language and gets you started. You can follow this by looking at the library reference for a full description of Python's many libraries and the language reference for a complete (though somewhat dry) explanation of Python's syntax. If you are looking for common Python recipes and patterns, you can browse the ActiveState Python Cookbook\"]\n"
     ]
    }
   ],
   "source": [
    "with open('test1.txt','w') as f:\n",
    "    f.write(\"Welcome! Are you completely new to programming? If not then we presume you will be looking for information about why and how to get started with Python. Fortunately an experienced programmer in any programming language (whatever it may be) can pick up Python very quickly. It's also easy for beginners to use and learn, so jump in!\")\n",
    "    f.write(\"\\nInstalling Python is generally easy, and nowadays many Linux and UNIX distributions include a recent Python. Even some Windows computers (notably those from HP) now come with Python already installed. If you do need to install Python and aren't confident about the task you can find a few notes on the BeginnersGuide/Download wiki page, but installation is unremarkable on most platforms.\")\n",
    "    f.write(\"\\nBefore getting started, you may want to find out which IDEs and text editors are tailored to make Python editing easy, browse the list of introductory books, or look at code samples that you might find helpful.\")\n",
    "    f.write(\"\\nThe online documentation is your first port of call for definitive information. There is a fairly brief tutorial that gives you basic information about the language and gets you started. You can follow this by looking at the library reference for a full description of Python's many libraries and the language reference for a complete (though somewhat dry) explanation of Python's syntax. If you are looking for common Python recipes and patterns, you can browse the ActiveState Python Cookbook\")\n",
    "    \n",
    "## read() function  is used to read the entire file at once and returns the read value\n",
    "\n",
    "with open(\"test1.txt\",'r') as f:\n",
    "    data=f.read()\n",
    "    print(\"Output for read() function\",\"\",sep=\"\\n\")\n",
    "    print(data)\n",
    "    print()\n",
    "    \n",
    "## readline() is used to read the file line by line. it also takes size argument which defines the no of bytes to be read once\n",
    "## by default size is -1 meaning read the entire line\n",
    "\n",
    "with open('test1.txt','r') as f:\n",
    "    print(\"Output for readline() function\",\"\",sep=\"\\n\")\n",
    "    data=f.readline()\n",
    "    while data:\n",
    "        print(data)\n",
    "        print()\n",
    "        data=f.readline()\n",
    "    print()\n",
    "    \n",
    "## readlines() is used to read all the lines of file and return it in a list.\n",
    "\n",
    "with open('test1.txt','r') as f:\n",
    "    print(\"Output for readlines() funciton\",\"\",sep=\"\\n\")\n",
    "    data=f.readlines()\n",
    "    print(data)"
   ]
  },
  {
   "cell_type": "markdown",
   "id": "27346041",
   "metadata": {},
   "source": [
    "Q.5) Explain why with statement is used with open(). What is the advantage of using with statement and open() together."
   ]
  },
  {
   "cell_type": "markdown",
   "id": "287704d1",
   "metadata": {},
   "source": [
    "Ans) When we open the file using the with statement in python we don't need to explicitly close the file. The file opened gets automatically closed. The files can be opened in different mode using open() function and then all the operations can be performed and can easily move to other file without being worried about closing the file."
   ]
  },
  {
   "cell_type": "markdown",
   "id": "125e2a71",
   "metadata": {},
   "source": [
    "Q.6) Explain the write() and writelines() functions. Give a suitable example."
   ]
  },
  {
   "cell_type": "code",
   "execution_count": 18,
   "id": "7bcf5027",
   "metadata": {},
   "outputs": [],
   "source": [
    "## write function takes string as argument and writes that string into the file.\n",
    "\n",
    "with open('test2.txt','w') as f:\n",
    "    f.write(\"Hello this is write() function\")\n",
    "    \n",
    "## writeline() function takes an iterable of string and writes the list of string into the file.\n",
    "\n",
    "data=[\"hello this is writeline\"]\n",
    "\n",
    "with open('test3.txt')"
   ]
  },
  {
   "cell_type": "code",
   "execution_count": null,
   "id": "b654b1e5",
   "metadata": {},
   "outputs": [],
   "source": []
  }
 ],
 "metadata": {
  "kernelspec": {
   "display_name": "Python 3 (ipykernel)",
   "language": "python",
   "name": "python3"
  },
  "language_info": {
   "codemirror_mode": {
    "name": "ipython",
    "version": 3
   },
   "file_extension": ".py",
   "mimetype": "text/x-python",
   "name": "python",
   "nbconvert_exporter": "python",
   "pygments_lexer": "ipython3",
   "version": "3.9.13"
  }
 },
 "nbformat": 4,
 "nbformat_minor": 5
}
