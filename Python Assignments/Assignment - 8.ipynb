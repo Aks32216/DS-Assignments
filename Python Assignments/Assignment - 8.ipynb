{
 "cells": [
  {
   "cell_type": "markdown",
   "id": "c1bca411",
   "metadata": {},
   "source": [
    "Q.1) You are writing code for a company. The requirement of the company is that you create a python function that will check whether the passowrd entered by the user is correct or not. The function should take the password as input and return the string \"Valid Password\" if the entered password follows the below-given password guidelines else it should return \"Invalid Password\".\n",
    "\n",
    "Note : 1. The password should contain atleast two uppercase letters and at least two lowercase letters.\n",
    "2. The password should contain at least a number and three special characters.\n",
    "3. The length of the password should be 10 characters long\n",
    "\n"
   ]
  },
  {
   "cell_type": "code",
   "execution_count": 3,
   "id": "27275c81",
   "metadata": {},
   "outputs": [
    {
     "name": "stdout",
     "output_type": "stream",
     "text": [
      "Enter Your PasswordAmish___$1\n",
      "Invalid Password\n"
     ]
    }
   ],
   "source": [
    "s=input(\"Enter Your Password\")\n",
    "\n",
    "uc,lc,n,spc=0,0,0,0\n",
    "\n",
    "for i in s:\n",
    "    if i.isupper():\n",
    "        uc=uc+1\n",
    "    elif i.islower():\n",
    "        lc=lc+1\n",
    "    elif i.isnumeric():\n",
    "        n=n+1\n",
    "    else:\n",
    "        spc=spc+1\n",
    "\n",
    "if len(s)==10 and uc>=2 and lc>=2 and n>=1 and spc==3:\n",
    "    print(\"Valid Password\")\n",
    "else:\n",
    "    print(\"Invalid Password\")"
   ]
  },
  {
   "cell_type": "markdown",
   "id": "d954fcbe",
   "metadata": {},
   "source": [
    "Q.2) Solve the below-given questions using atleast one of the following:\n",
    "    1. lambda function\n",
    "    2. filter function\n",
    "    3. map function\n",
    "    4. list comprehension\n",
    "    "
   ]
  },
  {
   "cell_type": "markdown",
   "id": "6ac30acf",
   "metadata": {},
   "source": [
    "i) Check if the string starts with a particular letter."
   ]
  },
  {
   "cell_type": "code",
   "execution_count": 23,
   "id": "88f889e3",
   "metadata": {},
   "outputs": [
    {
     "name": "stdout",
     "output_type": "stream",
     "text": [
      "string does not start with specified letter\n"
     ]
    }
   ],
   "source": [
    "## using lambda function\n",
    "\n",
    "s=\"amish\"\n",
    "start=\"g\"\n",
    "\n",
    "checkString=lambda s,start:s[0]==start\n",
    "\n",
    "if checkString(s,start):\n",
    "    print(\"String starts with specified letter\")\n",
    "else:\n",
    "    print(\"string does not start with specified letter\")"
   ]
  },
  {
   "cell_type": "markdown",
   "id": "a5a16081",
   "metadata": {},
   "source": [
    "ii) Check if the string is numeric"
   ]
  },
  {
   "cell_type": "code",
   "execution_count": 25,
   "id": "4af6beaf",
   "metadata": {},
   "outputs": [
    {
     "name": "stdout",
     "output_type": "stream",
     "text": [
      "Enter your string: 544amish\n",
      "String is not numeric\n"
     ]
    }
   ],
   "source": [
    "## using lambda and reduce function\n",
    "\n",
    "from functools import reduce\n",
    "\n",
    "s=input(\"Enter your string: \")\n",
    "\n",
    "isNumeric=lambda s:s.isnumeric()\n",
    "\n",
    "if isNumeric(s):\n",
    "    print(\"String is numeric\")\n",
    "else:\n",
    "    print(\"String is not numeric\")\n"
   ]
  },
  {
   "cell_type": "markdown",
   "id": "b12cce90",
   "metadata": {},
   "source": [
    "iii) sort a list of tuples having fruit names and their quantity. [(\"mango\",99),(\"orange\",80),(\"grapes\",100)]"
   ]
  },
  {
   "cell_type": "code",
   "execution_count": 5,
   "id": "77605b20",
   "metadata": {},
   "outputs": [
    {
     "name": "stdout",
     "output_type": "stream",
     "text": [
      "[('grapes', 100), ('mango', 99), ('orange', 80), ('orange', 180)]\n"
     ]
    }
   ],
   "source": [
    "## using lambda function\n",
    "\n",
    "l1=[(\"mango\",99),(\"orange\",80),(\"grapes\",100),(\"orange\",180)]\n",
    "\n",
    "l1.sort(key=lambda x:(x[0],x[1]))\n",
    "print(l1)"
   ]
  },
  {
   "cell_type": "markdown",
   "id": "56290f81",
   "metadata": {},
   "source": [
    "iv) Find the squares of numbers from 1 to 10."
   ]
  },
  {
   "cell_type": "code",
   "execution_count": 11,
   "id": "f24ec219",
   "metadata": {},
   "outputs": [
    {
     "name": "stdout",
     "output_type": "stream",
     "text": [
      "[1, 4, 9, 16, 25, 36, 49, 64, 81, 100]\n"
     ]
    }
   ],
   "source": [
    "## using lambda and map function\n",
    "\n",
    "l1=[i for i in range(1,11)]\n",
    "\n",
    "l2=list(map(lambda x:x**2,l1))\n",
    "\n",
    "print(l2)"
   ]
  },
  {
   "cell_type": "markdown",
   "id": "a77727ba",
   "metadata": {},
   "source": [
    "v) Find the cube root of numbers from 1 to 10."
   ]
  },
  {
   "cell_type": "code",
   "execution_count": 12,
   "id": "453c2566",
   "metadata": {},
   "outputs": [
    {
     "name": "stdout",
     "output_type": "stream",
     "text": [
      "[1.0, 1.2599210498948732, 1.4422495703074083, 1.5874010519681994, 1.7099759466766968, 1.8171205928321397, 1.912931182772389, 2.0, 2.080083823051904, 2.154434690031884]\n"
     ]
    }
   ],
   "source": [
    "## using lambda and map function\n",
    "\n",
    "l1=[i for i in range(1,11)]\n",
    "\n",
    "l2=list(map(lambda x:x**(1/3),l1))\n",
    "\n",
    "print(l2)"
   ]
  },
  {
   "cell_type": "markdown",
   "id": "30391440",
   "metadata": {},
   "source": [
    "vi) Check if a given number is even"
   ]
  },
  {
   "cell_type": "code",
   "execution_count": 15,
   "id": "68f6d464",
   "metadata": {},
   "outputs": [
    {
     "name": "stdout",
     "output_type": "stream",
     "text": [
      "Enter a Number: 14\n",
      "Even\n"
     ]
    }
   ],
   "source": [
    "## using lambda function\n",
    "\n",
    "checkIfEven=lambda x:x%2==0\n",
    "\n",
    "n=int(input(\"Enter a Number: \"))\n",
    "if checkIfEven(n):\n",
    "    print(\"Even\")\n",
    "else:\n",
    "    print(\"Odd\")"
   ]
  },
  {
   "cell_type": "markdown",
   "id": "0e2d3b27",
   "metadata": {},
   "source": [
    "vii) Filter odd numbers from the given list"
   ]
  },
  {
   "cell_type": "code",
   "execution_count": 16,
   "id": "174d57e2",
   "metadata": {},
   "outputs": [
    {
     "name": "stdout",
     "output_type": "stream",
     "text": [
      "[1, 3, 5, 7, 9]\n"
     ]
    }
   ],
   "source": [
    "## using lambda and filter function\n",
    "\n",
    "l1=[i for i in range(1,11)]\n",
    "\n",
    "l2=list(filter(lambda x:x&1,l1))\n",
    "\n",
    "print(l2)"
   ]
  },
  {
   "cell_type": "markdown",
   "id": "7bcaea44",
   "metadata": {},
   "source": [
    "viii) Sort a list of integers into positive and negative integers list"
   ]
  },
  {
   "cell_type": "code",
   "execution_count": 17,
   "id": "4817d1b1",
   "metadata": {},
   "outputs": [
    {
     "name": "stdout",
     "output_type": "stream",
     "text": [
      "[1, 2, 3, 4, 5, 6, 0]\n",
      "[-1, -2, -3, -4, -5]\n"
     ]
    }
   ],
   "source": [
    "## using lambda and filter function\n",
    "\n",
    "l1=[1,2,3,4,5,6,-1,-2,-3,-4,-5,0]\n",
    "\n",
    "positive=list(filter(lambda x:x>=0,l1))\n",
    "negative=list(filter(lambda x:x<0,l1))\n",
    "\n",
    "print(positive,negative,sep=\"\\n\")"
   ]
  },
  {
   "cell_type": "code",
   "execution_count": null,
   "id": "f031af3d",
   "metadata": {},
   "outputs": [],
   "source": []
  }
 ],
 "metadata": {
  "kernelspec": {
   "display_name": "Python 3 (ipykernel)",
   "language": "python",
   "name": "python3"
  },
  "language_info": {
   "codemirror_mode": {
    "name": "ipython",
    "version": 3
   },
   "file_extension": ".py",
   "mimetype": "text/x-python",
   "name": "python",
   "nbconvert_exporter": "python",
   "pygments_lexer": "ipython3",
   "version": "3.9.13"
  }
 },
 "nbformat": 4,
 "nbformat_minor": 5
}
