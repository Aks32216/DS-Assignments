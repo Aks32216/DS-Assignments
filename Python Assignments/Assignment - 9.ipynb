{
 "cells": [
  {
   "cell_type": "markdown",
   "id": "613895ae",
   "metadata": {},
   "source": [
    "Q.1) What is Abstraction in OOPs? Explain With an example."
   ]
  },
  {
   "cell_type": "markdown",
   "id": "8266e1ec",
   "metadata": {},
   "source": [
    "Ans) Abstraction means hiding the implementation details of any function and just showing how to acess those functions is called abstraction.\n",
    "\n",
    "For Eg.\n",
    "\n",
    "all smartphone have functions such as camera, voice-recorder, call-dialing, etc., but we don't know how these operations are happening in the background."
   ]
  },
  {
   "cell_type": "markdown",
   "id": "c6abad82",
   "metadata": {},
   "source": [
    "Q.2) Differentiate between abstraction and encapsulation. Explain with an example."
   ]
  },
  {
   "cell_type": "markdown",
   "id": "b54e6d75",
   "metadata": {},
   "source": [
    "Ans) Encapsulation is wrapping up data and members function into a single unit called class.\n",
    "In encapsulation we bind the data members with methods so that these data are only accessible either inside class or through methods outside class. Thus main motive of encapsulation is to hide the data to prevent it from accidental modification outside the class.\n",
    "\n",
    "This can be achieved with the help of private access specifier.\n",
    "\n",
    "Abstraction is the process of hiding the implementation details of anything and only showing the functionality to acess is abstraction. \n",
    "\n",
    "Abstraction is achieved through class and interfaces.\n",
    "\n",
    "For eg.\n",
    "\n",
    "There is a calculator which has batteries, circuits, buttons etc.\n",
    "Circuits and batteries and other internal components make up calculator and they are encapsulation.\n",
    "\n",
    "button which are provided to operate on calcuator are abstraction as we know what these button do but how is not known."
   ]
  },
  {
   "cell_type": "markdown",
   "id": "afbd8938",
   "metadata": {},
   "source": [
    "Q.3) What is abc module in python? Why is it used?"
   ]
  },
  {
   "cell_type": "markdown",
   "id": "0bbb8818",
   "metadata": {},
   "source": [
    "Ans) abc module in python is used to implement abstract classes. abc stands for abstract base class.\n",
    "\n",
    "Abstract classes are the one which have atleast one abstract method. Abstract methods are the ones which does not have implementation details and they depend upon their child class for their implementation\n",
    "\n",
    "Abstract classes cannot be instantiated and if they are inherited then child class must provide implementation of abstract methods otherwise child class would also become abstract class.\n",
    "\n",
    "abc module is used to achieve abstraction.\n",
    "\n",
    "For eg:\n",
    "\n",
    "from abc import ABC\n",
    "\n",
    "class Animal(ABC):\n",
    "    @abc.abstractmethod\n",
    "    def makeSound(self):\n",
    "        pass\n",
    "        \n",
    "class Dog(Animal):\n",
    "    def makeSound(self):\n",
    "        print(\"bark\")\n",
    "\n",
    "\n",
    "class Cat(Animal):\n",
    "    def makeSound(self):\n",
    "        print(\"meow\")\n",
    "        \n",
    "in the above example Animal is a abstract class having abstract method makeSound() that does not have any implementation details.\n",
    "Dog class inherits from Animal class and thus it becomes necessary for it to provide implementation of makeSound() function which it does according to itself so does the cat class.\n"
   ]
  },
  {
   "cell_type": "markdown",
   "id": "8480d95d",
   "metadata": {},
   "source": [
    "Q.4) How can we achieve data abstraction?"
   ]
  },
  {
   "cell_type": "markdown",
   "id": "aefd6cc6",
   "metadata": {},
   "source": [
    "Ans) In python, abstraction is achieved by habing abstract classes and methods in our program.\n",
    "\n"
   ]
  },
  {
   "cell_type": "code",
   "execution_count": 1,
   "id": "34350d16",
   "metadata": {},
   "outputs": [],
   "source": [
    "## example of how data abstraction is achieved\n",
    "\n",
    "import abc\n",
    "import math\n",
    "\n",
    "class shape(abc.ABC):\n",
    "    @abc.abstractmethod\n",
    "    def area(self):\n",
    "        pass\n",
    "\n",
    "    def perimeter(self):\n",
    "        pass\n",
    "    \n",
    "class Rectange(shape):\n",
    "    def __init__(self,length,breadth):\n",
    "        self.length=length\n",
    "        self.breadth=breadth\n",
    "    \n",
    "    def area(self):\n",
    "        return self.length*self.breadth\n",
    "    \n",
    "    def perimeter(self):\n",
    "        return 2*(self.length+self.breadth)\n",
    "    \n",
    "class Circle(shape):\n",
    "    def __init__(self,radius):\n",
    "        self.radius=radius\n",
    "        \n",
    "    def area(self):\n",
    "        return math.pi*self.radius*self.radius\n",
    "    \n",
    "    def perimeter(self):\n",
    "        return 2*math.pi*self.radius"
   ]
  },
  {
   "cell_type": "markdown",
   "id": "eaf06694",
   "metadata": {},
   "source": [
    "Q.5) Can we create instance of abstract class? Explain your answer."
   ]
  },
  {
   "cell_type": "markdown",
   "id": "b643f361",
   "metadata": {},
   "source": [
    "Ans) No, abstract class cannot be instantiated.  It just provides an interface for subclasses to avoid code duplication. We cannot instantiate base class as it serves as base for other classes "
   ]
  }
 ],
 "metadata": {
  "kernelspec": {
   "display_name": "Python 3 (ipykernel)",
   "language": "python",
   "name": "python3"
  },
  "language_info": {
   "codemirror_mode": {
    "name": "ipython",
    "version": 3
   },
   "file_extension": ".py",
   "mimetype": "text/x-python",
   "name": "python",
   "nbconvert_exporter": "python",
   "pygments_lexer": "ipython3",
   "version": "3.9.13"
  }
 },
 "nbformat": 4,
 "nbformat_minor": 5
}
