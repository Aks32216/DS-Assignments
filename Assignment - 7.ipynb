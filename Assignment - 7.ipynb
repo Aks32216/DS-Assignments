{
 "cells": [
  {
   "cell_type": "markdown",
   "id": "55a6d567",
   "metadata": {},
   "source": [
    "Q.1) Create a function which will take a list as an argument and return the product of all the numbers after creating a flat list.\n",
    "use the below-given list as an argument for your function.\n",
    "\n",
    "list1=[1,2,3,4,[44,55,66,True],False,(34,56,78,89,34),{1,2,3,3,2,1},{1:34,\"key2\":[55,67,78,89],4:(45,22,61,34)},[56,'data science'],'machine learning']"
   ]
  },
  {
   "cell_type": "code",
   "execution_count": 1,
   "id": "e9ff0723",
   "metadata": {},
   "outputs": [],
   "source": [
    "list1=[1,2,3,4,[44,55,66,True],False,(34,56,78,89,34),{1,2,3,3,2,1},{1:34,\"key2\":[55,67,78,89],4:(45,22,61,34)},[56,'data science'],'machine learning']"
   ]
  },
  {
   "cell_type": "code",
   "execution_count": 2,
   "id": "738a110c",
   "metadata": {},
   "outputs": [
    {
     "data": {
      "text/plain": [
       "[1,\n",
       " 2,\n",
       " 3,\n",
       " 4,\n",
       " [44, 55, 66, True],\n",
       " False,\n",
       " (34, 56, 78, 89, 34),\n",
       " {1, 2, 3},\n",
       " {1: 34, 'key2': [55, 67, 78, 89], 4: (45, 22, 61, 34)},\n",
       " [56, 'data science'],\n",
       " 'machine learning']"
      ]
     },
     "execution_count": 2,
     "metadata": {},
     "output_type": "execute_result"
    }
   ],
   "source": [
    "list1"
   ]
  },
  {
   "cell_type": "code",
   "execution_count": 7,
   "id": "c7e5c965",
   "metadata": {},
   "outputs": [
    {
     "name": "stdout",
     "output_type": "stream",
     "text": [
      "[1, 2, 3, 4, 44, 55, 66, 34, 56, 78, 89, 34, 1, 2, 3, 1, 1, 55, 67, 78, 89, 4, 45, 22, 61, 34, 56]\n",
      "121609171734914278789230624768000\n"
     ]
    }
   ],
   "source": [
    "def createFlatList(l1):\n",
    "    l2=[]\n",
    "    \n",
    "    for i in l1:\n",
    "        if type(i)==int:\n",
    "            l2.append(i)\n",
    "        elif type(i)==list or type(i)==tuple or type(i)==set:\n",
    "            temp=createFlatList(i)\n",
    "            l2.extend(temp)\n",
    "        elif type(i)==dict:\n",
    "            for j in i.keys():\n",
    "                if type(j)==int:\n",
    "                    l2.append(j)\n",
    "                if type(i[j])==int:\n",
    "                    l2.append(j)\n",
    "                elif type(i[j])==tuple or type(i[j])==set or type(i[j])==list or type(i[j])==dict:\n",
    "                    temp=createFlatList(i[j])\n",
    "                    l2.extend(temp)\n",
    "        else:\n",
    "            continue\n",
    "            \n",
    "    return l2\n",
    "            \n",
    "list2=createFlatList(list1)\n",
    "print(list2)\n",
    "\n",
    "product=1\n",
    "\n",
    "for i in list2:\n",
    "    product=product*i\n",
    "\n",
    "print(product)"
   ]
  },
  {
   "cell_type": "markdown",
   "id": "dae85a90",
   "metadata": {},
   "source": [
    "Q.2) Write a python program for encrypting a message sent to you by your friend. The logic of encryption should be such that, for a the output should be z, for b, the output shoud be y, for c, the output should be x respectively. Also, the whitespace should be replaced with a dollar sign. Keep the punctuation marks unchanged.\n",
    "\n",
    "Input: \"I want to become a Data Scientist.\""
   ]
  },
  {
   "cell_type": "code",
   "execution_count": 13,
   "id": "ea074740",
   "metadata": {},
   "outputs": [
    {
     "name": "stdout",
     "output_type": "stream",
     "text": [
      "r$dzmg$gl$yvxlnv$z$wzgz$hxrvmgrhg\n"
     ]
    }
   ],
   "source": [
    "s=\"I want to become a Data Scientist.\"\n",
    "s=s.lower()\n",
    "\n",
    "res=\"\"\n",
    "\n",
    "for i in s:\n",
    "    if i.isalpha():\n",
    "        ascCode=ord(i)\n",
    "        newAscCode=97+(25-abs(ascCode-97))\n",
    "        encryptedChar=chr(newAscCode)\n",
    "        res+=encryptedChar\n",
    "    elif i.isspace():\n",
    "        res+=\"$\"\n",
    "    \n",
    "    \n",
    "print(res)"
   ]
  },
  {
   "cell_type": "code",
   "execution_count": null,
   "id": "f97458c1",
   "metadata": {},
   "outputs": [],
   "source": []
  }
 ],
 "metadata": {
  "kernelspec": {
   "display_name": "Python 3 (ipykernel)",
   "language": "python",
   "name": "python3"
  },
  "language_info": {
   "codemirror_mode": {
    "name": "ipython",
    "version": 3
   },
   "file_extension": ".py",
   "mimetype": "text/x-python",
   "name": "python",
   "nbconvert_exporter": "python",
   "pygments_lexer": "ipython3",
   "version": "3.9.13"
  }
 },
 "nbformat": 4,
 "nbformat_minor": 5
}
