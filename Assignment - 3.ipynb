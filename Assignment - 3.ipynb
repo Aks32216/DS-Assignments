{
 "cells": [
  {
   "cell_type": "markdown",
   "id": "18ae749b",
   "metadata": {},
   "source": [
    "Q.1) Explain with an exapmle each when to use a for loop and a while loop?\n",
    "\n",
    "Ans) For loop is used in cases where we have a definite range to iterate or we need to iterate though iterable data structures.\n",
    "\n",
    "for eg:\n",
    "\n",
    "for i in list:\n",
    "    print(value)\n",
    "    \n",
    "this is one of the example that can use for loop\n",
    "\n",
    "While loop and for loop fundamentally do the same thing and anything that can be done with for loop can also be done with while loop and vice versa.\n",
    "\n",
    "but generally while loop is used in cases when we want to iterate though the loop till a condition is met.\n",
    "\n",
    "for eg:\n",
    "\n",
    "while input==required_value:\n",
    "    wait()\n",
    "    \n"
   ]
  },
  {
   "cell_type": "markdown",
   "id": "f4b1e630",
   "metadata": {},
   "source": [
    "Q.2) Write a python program to print the sum and product of the first 10 natural numbers using for and while loop.\n"
   ]
  },
  {
   "cell_type": "code",
   "execution_count": 1,
   "id": "bb4031bd",
   "metadata": {},
   "outputs": [
    {
     "name": "stdout",
     "output_type": "stream",
     "text": [
      "sum of the first 10 natural numbers is 55\n",
      "product of the first 10 natural numbers is 3628800\n"
     ]
    }
   ],
   "source": [
    "## using for loop\n",
    "\n",
    "addition=0\n",
    "product=1\n",
    "\n",
    "for i in range(1,11):\n",
    "    addition=addition+i\n",
    "    product=product*i\n",
    "\n",
    "print(f\"sum of the first 10 natural numbers is {addition}\")\n",
    "print(f\"product of the first 10 natural numbers is {product}\")"
   ]
  },
  {
   "cell_type": "code",
   "execution_count": 2,
   "id": "f1d7f279",
   "metadata": {},
   "outputs": [
    {
     "name": "stdout",
     "output_type": "stream",
     "text": [
      "sum of the first 10 natural numbers is 55\n",
      "product of the first 10 natural numbers is 3628800\n"
     ]
    }
   ],
   "source": [
    "## using while loop\n",
    "\n",
    "addition=0\n",
    "product=1\n",
    "i=1\n",
    "while i<=10:\n",
    "    addition=addition+i\n",
    "    product=product*i\n",
    "    i+=1\n",
    "\n",
    "print(f\"sum of the first 10 natural numbers is {addition}\")\n",
    "print(f\"product of the first 10 natural numbers is {product}\")"
   ]
  },
  {
   "cell_type": "markdown",
   "id": "041831e1",
   "metadata": {},
   "source": [
    "Q.3) Create a python program to compute the electricity bill for a household.\n",
    "The per-unit charges in rupees are as follows:\n",
    "for the first 100 units, the user will be charged Rs. 4.5/unit\n",
    "for the next 100 units, users will be charged Rs. 6/unit\n",
    "for the next 100 units, the users will be charged Rs. 10/unit\n",
    "and after 300 units users will be charged Rs. 20/unit"
   ]
  },
  {
   "cell_type": "code",
   "execution_count": 6,
   "id": "26501d6e",
   "metadata": {},
   "outputs": [
    {
     "name": "stdout",
     "output_type": "stream",
     "text": [
      "Enter the unit of electricity consumed310\n",
      "2250\n"
     ]
    }
   ],
   "source": [
    "unit=int(input(\"Enter the unit of electricity consumed\"))\n",
    "\n",
    "if unit>100:\n",
    "    if unit>200:\n",
    "        if unit>300:\n",
    "            cost=450+600+1000+(unit-300)*20\n",
    "            print(cost)\n",
    "        else:\n",
    "            cost=450+600+(unit-200)*10\n",
    "            print(cost)\n",
    "    else:\n",
    "        cost=450+(unit-100)*6\n",
    "        print(cost)\n",
    "else:\n",
    "    cost=unit*4.5\n",
    "    print(cost)"
   ]
  },
  {
   "cell_type": "markdown",
   "id": "c50fba69",
   "metadata": {},
   "source": [
    "Q.4) Create a list of numbers from 1 to 100. Use for loop and while loop to calculate the cube of each number and if the cube of that number is divisible by 4 or 5 then append that number in a list and print that list."
   ]
  },
  {
   "cell_type": "code",
   "execution_count": null,
   "id": "33e8ca35",
   "metadata": {},
   "outputs": [],
   "source": [
    "l1=list(range(1,101))"
   ]
  },
  {
   "cell_type": "code",
   "execution_count": 7,
   "id": "06bf3049",
   "metadata": {},
   "outputs": [
    {
     "name": "stdout",
     "output_type": "stream",
     "text": [
      "[8, 64, 125, 216, 512, 1000, 1728, 2744, 3375, 4096, 5832, 8000, 10648, 13824, 15625, 17576, 21952, 27000, 32768, 39304, 42875, 46656, 54872, 64000, 74088, 85184, 91125, 97336, 110592, 125000, 140608, 157464, 166375, 175616, 195112, 216000, 238328, 262144, 274625, 287496, 314432, 343000, 373248, 405224, 421875, 438976, 474552, 512000, 551368, 592704, 614125, 636056, 681472, 729000, 778688, 830584, 857375, 884736, 941192, 1000000]\n"
     ]
    }
   ],
   "source": [
    "## using for loop\n",
    "\n",
    "l2=[]\n",
    "\n",
    "for i in l1:\n",
    "    i=i**3\n",
    "    if i%4==0 or i%5==0:\n",
    "        l2.append(i)\n",
    "\n",
    "print(l2)"
   ]
  },
  {
   "cell_type": "code",
   "execution_count": 8,
   "id": "def50c4f",
   "metadata": {},
   "outputs": [
    {
     "name": "stdout",
     "output_type": "stream",
     "text": [
      "[8, 64, 125, 216, 512, 1000, 1728, 2744, 3375, 4096, 5832, 8000, 10648, 13824, 15625, 17576, 21952, 27000, 32768, 39304, 42875, 46656, 54872, 64000, 74088, 85184, 91125, 97336, 110592, 125000, 140608, 157464, 166375, 175616, 195112, 216000, 238328, 262144, 274625, 287496, 314432, 343000, 373248, 405224, 421875, 438976, 474552, 512000, 551368, 592704, 614125, 636056, 681472, 729000, 778688, 830584, 857375, 884736, 941192, 1000000]\n"
     ]
    }
   ],
   "source": [
    "## using while loop\n",
    "\n",
    "l2=[]\n",
    "\n",
    "i=0\n",
    "\n",
    "while i<len(l1):\n",
    "    val=l1[i]**3\n",
    "    if val%4==0 or val%5==0:\n",
    "        l2.append(val)\n",
    "    i=i+1\n",
    "\n",
    "        \n",
    "print(l2)"
   ]
  },
  {
   "cell_type": "markdown",
   "id": "750c878c",
   "metadata": {},
   "source": [
    "Q.5) Write a program to filter count vowels in the below given string.\n",
    "        string=\"I want to become a data scientist\"\n",
    "        "
   ]
  },
  {
   "cell_type": "code",
   "execution_count": 9,
   "id": "37455117",
   "metadata": {},
   "outputs": [
    {
     "name": "stdout",
     "output_type": "stream",
     "text": [
      "I a o e o e a a a i e i "
     ]
    }
   ],
   "source": [
    "s=\"I want to become a data scientist\"\n",
    "\n",
    "for i in s:\n",
    "    if i=='a' or i=='e' or i=='i' or i=='o' or i=='u' or i=='A' or i=='E' or i=='I' or i=='O' or i=='U':\n",
    "        print(i,end=\" \")\n",
    "    "
   ]
  },
  {
   "cell_type": "code",
   "execution_count": null,
   "id": "34edd2e7",
   "metadata": {},
   "outputs": [],
   "source": []
  }
 ],
 "metadata": {
  "kernelspec": {
   "display_name": "Python 3 (ipykernel)",
   "language": "python",
   "name": "python3"
  },
  "language_info": {
   "codemirror_mode": {
    "name": "ipython",
    "version": 3
   },
   "file_extension": ".py",
   "mimetype": "text/x-python",
   "name": "python",
   "nbconvert_exporter": "python",
   "pygments_lexer": "ipython3",
   "version": "3.9.13"
  }
 },
 "nbformat": 4,
 "nbformat_minor": 5
}
