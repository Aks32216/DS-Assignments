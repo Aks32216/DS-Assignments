{
 "cells": [
  {
   "cell_type": "markdown",
   "id": "5eb2cabe",
   "metadata": {},
   "source": [
    "Q.1) Who developed Python Programming Language?\n",
    "\n",
    "Ans) Python was developed by Guido van Rossum in 1991. The name python was inspired by the \n",
    "        BBC  comedy sketch series Monty Python's Flying Circus. "
   ]
  },
  {
   "cell_type": "markdown",
   "id": "29d860a6",
   "metadata": {},
   "source": [
    "Q.2) Which type of Programming does Python support?\n",
    "\n",
    "Ans) Python is an Object-Oriented, high-level programming, dynamic typed language."
   ]
  },
  {
   "cell_type": "markdown",
   "id": "41855766",
   "metadata": {},
   "source": [
    "Q.3) Is Python case sensitive when dealing with identifiers?\n",
    "\n",
    "Ans) Yes, Python is a case sensitive language. This means that if identifiers are named like 'Count', 'coUnt','count','counT' then all will be treated as different identifier. Thus while coding and accessing identifiers programmers needs to take special care of the names they use."
   ]
  },
  {
   "cell_type": "markdown",
   "id": "9638b8d2",
   "metadata": {},
   "source": [
    "Q.4) What is the correct extension of Python file?\n",
    "\n",
    "Ans) .py is the extension of Python file."
   ]
  },
  {
   "cell_type": "markdown",
   "id": "c33216f1",
   "metadata": {},
   "source": [
    "Q.5) Is Python code compiled or interpreted?\n",
    "\n",
    "Ans) Python is a both compiled as well as interpreted language. Python code is first compiled and then a byte code is generated which is interpreted by pyton virtual machine. "
   ]
  },
  {
   "cell_type": "markdown",
   "id": "35ed247e",
   "metadata": {},
   "source": [
    "Q.6) Name a few blocks of code used to define in Python language?\n",
    "\n",
    "Ans) Indentation is used to define block of code in Python language."
   ]
  },
  {
   "cell_type": "markdown",
   "id": "64b8cf96",
   "metadata": {},
   "source": [
    "Q.7) State a character used to give single-line commnets in Python?\n",
    "\n",
    "Ans) ## is used to give single line comment in Python."
   ]
  },
  {
   "cell_type": "markdown",
   "id": "7c5bdd23",
   "metadata": {},
   "source": [
    "Q.8) Mention functions which can help us to find the version of python that we are currently working on?\n",
    "\n",
    "Ans) Open the terminal in your respective operating system and then in the terminal type\n",
    "        python --version\n",
    "        \n",
    "if python is present in your system then it will display the version of python you are using\n",
    "        "
   ]
  },
  {
   "cell_type": "markdown",
   "id": "d2577df5-47cb-4849-a93c-809924aa2924",
   "metadata": {},
   "source": [
    "Q.9) Python supports the creation of anonymous functions at runtime, using a construct called \n",
    "\n",
    "Ans) lamda functions are used for creating anonymous functions at runtime."
   ]
  },
  {
   "cell_type": "markdown",
   "id": "ea62c108-f3b3-4fba-a351-9abfcf5e4b71",
   "metadata": {},
   "source": [
    "Q.10) What does pip stand for python?\n",
    "\n",
    "Ans) pip is a package manager in python. It is used to manage packages inside python. It helps to install packages that does not come with python. It can also help to maintain the versions of python packages and also install the packages that were installed.\n",
    "\n",
    "To use pip to install a package -\n",
    "\n",
    "pip (package name)\n",
    "\n",
    "where package name is the name of the package that need to be installed.\n",
    "\n",
    "for eg: \n",
    "if we wanted to install numpy then we need to type\n",
    "\n",
    "pip numpy \n",
    "\n",
    "this will install numpy package."
   ]
  },
  {
   "cell_type": "markdown",
   "id": "5d486922-4ef8-44bc-96bb-50e63db08176",
   "metadata": {},
   "source": [
    "Q.11) Mention a few built-in functions in python?\n",
    "\n",
    "Ans) The vaious built-in functions in python include\n",
    "\n",
    "i) len() - this function is used to find the length of iterable.\n",
    "ii) abs() - this is used to find the absolute value\n",
    "iii) sum() - this function is used to find the sum of the iterable.\n",
    "iv) min() - this function is used to find the minimum value\n",
    "v) max() - this function is used to find the maximum value.\n",
    "vi) print() - prints the specified string in the console (default)"
   ]
  },
  {
   "cell_type": "markdown",
   "id": "99ed5a07-f8c8-4a3c-87a4-5a2188222de9",
   "metadata": {},
   "source": [
    "Q.12) what is the maximum possible length of an identifier in python?\n",
    "\n",
    "Ans) There is no limit over the length of the identifier. programmer can name the identifier of any length they want. \n",
    "Identifier only needs to follow few basic rules like-\n",
    "i) they must start with alphabet or underscore.\n",
    "ii) it can contain capital letter, small letter, numbers, _\n",
    "iii) no special characters like #,$,@,etc cannot be used."
   ]
  },
  {
   "cell_type": "markdown",
   "id": "03be31f2-6153-4503-b464-ed3ba97e573a",
   "metadata": {},
   "source": [
    "Q.13) What are the benefits of using python?\n",
    "\n",
    "Ans) Python is a language that can be used in multiple domain. some of them includes-\n",
    "i) web development - python has frameworks like flask,django which helps in web development\n",
    "\n",
    "ii) data science\n",
    "\n",
    "iii) For mathematical and scientific computaion\n",
    "\n",
    "iv) Machine learning"
   ]
  },
  {
   "cell_type": "markdown",
   "id": "6dc91917-363f-4d46-9f0f-b6ab0c811b2e",
   "metadata": {},
   "source": [
    "Q.14) How is memory managed in python?\n",
    "\n",
    "Ans) Memory is managed automatically in python. Programmer does not need to write specific code to manage memeory inside python. Like in C or C++ programmers need to specifically define when a variable will exit in memory and when it will be removed from the memory. But python does this automatically with the help of \n",
    "\n",
    "i) Python memory manager - it is used to allocate references and values in memory\n",
    "\n",
    "ii) Python garbage collector - it is used to deallocate references which are no more required.\n",
    "\n",
    "There are two types of memory in python-\n",
    "i) stack memory - it is managed at compiled time by compiler. it stores refereces.\n",
    "\n",
    "ii) heap memory - it is managed at runtime by interpreter. it stores values and objects.\n"
   ]
  },
  {
   "cell_type": "markdown",
   "id": "64187524-0a19-453e-baa8-779ec5460af0",
   "metadata": {},
   "source": [
    "Q.15) Is indentation required in python?\n",
    "\n",
    "Ans) Python does not support block or {}. Thus indentation is the supported by python to determine which block of code belongs to which function."
   ]
  },
  {
   "cell_type": "code",
   "execution_count": null,
   "id": "949fcdf6-528d-4e91-af41-c1369bb011c5",
   "metadata": {},
   "outputs": [],
   "source": []
  }
 ],
 "metadata": {
  "kernelspec": {
   "display_name": "Python 3 (ipykernel)",
   "language": "python",
   "name": "python3"
  },
  "language_info": {
   "codemirror_mode": {
    "name": "ipython",
    "version": 3
   },
   "file_extension": ".py",
   "mimetype": "text/x-python",
   "name": "python",
   "nbconvert_exporter": "python",
   "pygments_lexer": "ipython3",
   "version": "3.9.13"
  }
 },
 "nbformat": 4,
 "nbformat_minor": 5
}
