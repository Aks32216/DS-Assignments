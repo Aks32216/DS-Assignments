{
 "cells": [
  {
   "cell_type": "markdown",
   "id": "aaebcd88",
   "metadata": {},
   "source": [
    "Q.1) Explain Class and Object with respect to Object-Oriented Programming. Give a suitable example.\n",
    "\n",
    "Ans) Class is a collection of variables and associated functions. It represents a blueprint of a real life object. They have some properties defined by the variables and functionalities which are defined by methods.\n",
    "\n",
    "Object is instance of class. Object is the real world entity which is created using the blueprint class.\n",
    "\n",
    "For Eg:\n",
    "\n",
    "Every cat has a name, 4 legs, 2 eyes, 2 ears, 1 nose, 1 tail and moustache. This is a blueprint of every cat in this world. This is an example of class.\n",
    "Now a real cat which exist in the world is the object.\n"
   ]
  },
  {
   "cell_type": "markdown",
   "id": "a9f12463",
   "metadata": {},
   "source": [
    "Q.2) Name the four pillars of OOPs.\n",
    "\n",
    "Ans) The four pillars of OOPs are -\n",
    "\n",
    "i) Abstraction - Hiding the implementation details from the user and just showing them how to acess that functionality is called abstraction. For Eg; we dont know how gear of a car internally works but we know how to use them.\n",
    "\n",
    "ii) Encapsulation - wrapping up data and its associated functions into a single entity called class is encapsulation. \n",
    "\n",
    "iii) Polymorphism - Representing one thing in many form is called polymorphism. For eg- a female can be a mother, daughter, sister,etc\n",
    "\n",
    "iv) Inheritance - Acquiring the properties of parents is called inheritance.\n",
    "\n"
   ]
  },
  {
   "cell_type": "markdown",
   "id": "e38c4a67",
   "metadata": {},
   "source": [
    "Q.3) Explain why the __init__() function is used. Give a suitable example.\n",
    "\n",
    "Ans) __init__() is called constructors.\n",
    "Constructors are functions that are used to initialize object variable with initial values.\n",
    "Their main job is to provide the initial value to the members of a object when that object is being created.\n",
    "\n",
    "For eg:\n",
    "\n",
    "lets say we have a school in which we are accepting forms of student for enrolling into our school.\n",
    "Now whenever a student comes and enrolls into our school, he must provide some basic details like his name, address, phone number, which class he wants to get enrolled into.\n",
    "\n",
    "Now these are few of the initial values that a student object must have, and these can be given to an object when they are being created with the help of __init__() function. later on they can be changed if situation arises."
   ]
  },
  {
   "cell_type": "markdown",
   "id": "497d9e4d",
   "metadata": {},
   "source": [
    "Q.4) Why self is used in OOPs?\n",
    "\n",
    "Ans) self is used to refer to the current object of a class. It tells the pyhton interpreter to make changes or call the function of the object which we are currently referring to and not to any other object which were created of a particular class. \n",
    "\n",
    "Thus self is used to refer to the current instance of the class.\n",
    "\n",
    "for eg:\n",
    "if a student class has a function named as provide_details() and we call that function with a object say rohan.\n",
    "\n",
    "rohan.provide_details()\n",
    "\n",
    "then here self will refer to the values of the rohan object and not to any other object of student class to provide the details."
   ]
  },
  {
   "cell_type": "markdown",
   "id": "a276cf40",
   "metadata": {},
   "source": [
    "Q.5) What is inheritance? Give example of each type of inheritance?\n",
    "\n",
    "Ans) Iheritance means acquiring the properties from parent class by a child class. the parent class is called super class and the child class is called subclass.\n",
    "\n",
    "i) simple inheritance - One class inherits the properties from a single parent class. For eg: parent class (animal) and child class (dog)\n",
    "\n",
    "child class can inherit properties of animal class and extend itself further. \n",
    "as all the animals have 4 legs, one tail, two eyes, two ears\n",
    "so child class can inherit these properties from the animal class and then extend itself according to its need.\n",
    "\n",
    "ii) multilevel inheritance - in this type of inheritance, one class inherits from another class and then this class is inherited by another class and then level goes on till it is required.\n",
    "for eg: suppose we have a class called vehicle. now a car can inherit from vehicle and this car can be inherited by sportscar class.\n",
    "\n",
    "iii) multiple inheritance - in this type of inheritance, one class inherits from multiple classes.\n",
    "    for eg: lets say we have two classes person and company. now a employee can be inherit from both classes because a employee would have properties of both company and person.\n",
    "\n",
    "iv) Hierarchical Inheritance - in this type of inheritance, multiple base classes inherit from single parent class. thus in this type there is only one parent and multiple child classes.\n",
    "\n",
    "for eg: suppose a base class animal is there. now from this class, dog, cat, cow, lion all these classes can inherit as they all have properties of animal.\n",
    "\n",
    "v) Hybrid Inheritance - when inheritance consists of multiple type or combination of different type of inheritance, then it is hybrid inheritance."
   ]
  },
  {
   "cell_type": "code",
   "execution_count": null,
   "id": "525a64da",
   "metadata": {},
   "outputs": [],
   "source": []
  }
 ],
 "metadata": {
  "kernelspec": {
   "display_name": "Python 3 (ipykernel)",
   "language": "python",
   "name": "python3"
  },
  "language_info": {
   "codemirror_mode": {
    "name": "ipython",
    "version": 3
   },
   "file_extension": ".py",
   "mimetype": "text/x-python",
   "name": "python",
   "nbconvert_exporter": "python",
   "pygments_lexer": "ipython3",
   "version": "3.9.13"
  }
 },
 "nbformat": 4,
 "nbformat_minor": 5
}
