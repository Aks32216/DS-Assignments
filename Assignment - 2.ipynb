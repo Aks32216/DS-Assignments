{
 "cells": [
  {
   "cell_type": "markdown",
   "id": "1ad84662",
   "metadata": {},
   "source": [
    "Q.1) Write a program to accept percentage from the user and display the grade according to the following criteria:\n",
    "\n",
    "__________________________\n",
    "|   Marks                       |  Grade   |\n",
    "__________________________\n",
    "|  >90                            | A            |\n",
    "| >80 and <=90              | B             |\n",
    "| >=60 and <=80            |  C            |\n",
    "| below 60                    |  D            |\n",
    "_____________________________"
   ]
  },
  {
   "cell_type": "code",
   "execution_count": 7,
   "id": "aea7a0eb",
   "metadata": {},
   "outputs": [
    {
     "name": "stdout",
     "output_type": "stream",
     "text": [
      "Enter Your percentage85\n",
      "B\n"
     ]
    }
   ],
   "source": [
    "percentage=int(input(\"Enter Your percentage\"))\n",
    "\n",
    "if percentage>100 or percentage<0:\n",
    "    print(\"Wrong percentage! Enter again\")\n",
    "elif percentage > 90:\n",
    "    print(\"A\")\n",
    "elif percentage > 80 and percentage <=90:\n",
    "    print(\"B\")\n",
    "elif percentage >=60 and percentage <=80:\n",
    "    print(\"C\")\n",
    "else:\n",
    "    print(\"D\")\n",
    "    "
   ]
  },
  {
   "cell_type": "markdown",
   "id": "cc2646d7",
   "metadata": {},
   "source": [
    "Q.2) Write a program to accept the cost price of a bike and display the road tax to be paid according to the following criteria\n",
    "\n",
    "_____________________________________\n",
    "|   Tax                           |  Cost Price                    |\n",
    "_____________________________________\n",
    "|  15%                            | >100000                       |\n",
    "|  10%                            | >50000 and <=100000   |\n",
    "|  5%                             |  <=50000                      |\n",
    "______________________________________\n"
   ]
  },
  {
   "cell_type": "code",
   "execution_count": 13,
   "id": "fe201435",
   "metadata": {},
   "outputs": [
    {
     "name": "stdout",
     "output_type": "stream",
     "text": [
      "Enter the Cost Price of the Bike1200000\n",
      "Tax - 15%. Total amount to be paid 1380000.0\n"
     ]
    }
   ],
   "source": [
    "cp=int(input(\"Enter the Cost Price of the Bike\"))\n",
    "\n",
    "if cp > 100000:\n",
    "    value=cp+(.15*cp)\n",
    "    print(f\"Tax - 15%. Total amount to be paid {value}\")\n",
    "elif cp>50000 and cp<=100000:\n",
    "    value=cp+(.1*cp)\n",
    "    print(f\"Tax - 10%. Total amount to be paid {value}\")\n",
    "elif cp>0 and cp<=50000:\n",
    "    value=cp+(.05*cp)\n",
    "    print(f\"Tax - 5%. Total amount to be paid {value}\")\n",
    "else:\n",
    "    print(\"Enter the correct price of cp\")"
   ]
  },
  {
   "cell_type": "markdown",
   "id": "3e97920a",
   "metadata": {},
   "source": [
    "Q.3) Accept any city from the user and display monuments of that city.\n",
    "\n",
    "____________________________\n",
    "|   City                       |  Monument   |\n",
    "____________________________\n",
    "|  Delhi                       | Red Fort     |\n",
    "|  Agra                       | Taj Mahal    |\n",
    "| Jaipur                      |  Jal Mahal   |\n",
    "_____________________________"
   ]
  },
  {
   "cell_type": "code",
   "execution_count": 17,
   "id": "5a0b1413",
   "metadata": {},
   "outputs": [
    {
     "name": "stdout",
     "output_type": "stream",
     "text": [
      "Enter your city Name: aGrA\n",
      "Taj Mahal\n"
     ]
    }
   ],
   "source": [
    "city=input(\"Enter your city Name: \")\n",
    "city=city.lower()\n",
    "if city==\"delhi\":\n",
    "    print(\"Red Fort\")\n",
    "elif city==\"agra\":\n",
    "    print(\"Taj Mahal\")\n",
    "elif city==\"jaipur\":\n",
    "    print(\"Jal Mahal\")\n",
    "else:\n",
    "    print(\"No such Monument\")\n",
    "    "
   ]
  },
  {
   "cell_type": "markdown",
   "id": "e3319acc",
   "metadata": {},
   "source": [
    "Q.4) Check how many times a given number can be divided by 3 before it is less than or equal to 10."
   ]
  },
  {
   "cell_type": "code",
   "execution_count": 23,
   "id": "8cc2daf6",
   "metadata": {},
   "outputs": [
    {
     "name": "stdout",
     "output_type": "stream",
     "text": [
      "Enter Your Number: 50\n",
      "16\n",
      "5\n",
      "No of times it is divisible by 3 before it is less than or equal to 10 is  2\n"
     ]
    }
   ],
   "source": [
    "num=int(input(\"Enter Your Number: \"))\n",
    "\n",
    "count=0\n",
    "\n",
    "while num>10:\n",
    "    num=num//3\n",
    "    print(num)\n",
    "    count+=1\n",
    "\n",
    "print(\"No of times it is divisible by 3 before it is less than or equal to 10 is \",count)"
   ]
  },
  {
   "cell_type": "markdown",
   "id": "f195e761",
   "metadata": {},
   "source": [
    "Q.5) Why and when to use while loop in python. give a detailed description with example\n",
    "\n",
    "Ans) While loop is used in cases when we dont know how many times we need to run our loop or we dont know the start or end point of our loop.\n",
    "\n",
    "for example :\n",
    "\n",
    "if we want to check how many times a number is divisible by 3 till it becomes less than or equal to 10.\n",
    "so here our end point is clear which is the input number becomes less than 10 but we dont know how many times our loop will run. so in this case we will use while loop"
   ]
  },
  {
   "cell_type": "markdown",
   "id": "167d2129",
   "metadata": {},
   "source": [
    "Q.6) Use Nested while loop to print 3 different pattern.\n"
   ]
  },
  {
   "cell_type": "code",
   "execution_count": 25,
   "id": "00c537f2",
   "metadata": {},
   "outputs": [
    {
     "name": "stdout",
     "output_type": "stream",
     "text": [
      "Enter number of rows: 6\n",
      "* \n",
      "* * \n",
      "* * * \n",
      "* * * * \n",
      "* * * * * \n",
      "* * * * * * \n"
     ]
    }
   ],
   "source": [
    "## Pattern - 1\n",
    "\n",
    "n = int(input(\"Enter number of rows: \"))\n",
    "\n",
    "for i in range(1,n+1):\n",
    "    for j in range(1,i+1):\n",
    "        print(\"*\",end=\" \")\n",
    "    print()"
   ]
  },
  {
   "cell_type": "code",
   "execution_count": 37,
   "id": "b1602f6f",
   "metadata": {},
   "outputs": [
    {
     "name": "stdout",
     "output_type": "stream",
     "text": [
      "Enter number of rows : 5\n",
      "        *  \n",
      "      *  *  \n",
      "    *  *  *  \n",
      "  *  *  *  *  \n",
      "*  *  *  *  *  \n"
     ]
    }
   ],
   "source": [
    "## Pattern - 2\n",
    "\n",
    "n= int(input(\"Enter number of rows : \"))\n",
    "\n",
    "for i in range(1,n+1):\n",
    "    for j in range(1,n-i+1):\n",
    "        print(\" \",end=\" \")\n",
    "    for j in range(1,i+1):\n",
    "        print(\"* \",end=\" \")\n",
    "    print()"
   ]
  },
  {
   "cell_type": "code",
   "execution_count": 41,
   "id": "b3770ddd",
   "metadata": {},
   "outputs": [
    {
     "name": "stdout",
     "output_type": "stream",
     "text": [
      "Enter number of rows : 5\n",
      "        *\n",
      "      **\n",
      "    ***\n",
      "  ****\n",
      "*****\n"
     ]
    }
   ],
   "source": [
    "## Pattern - 3\n",
    "\n",
    "n=int(input(\"Enter number of rows : \"))\n",
    "\n",
    "for i in range(1,n+1):\n",
    "    for j in range(1,n-i+1):\n",
    "        print(\" \",end=\" \")\n",
    "    for j in range(1,i+1):\n",
    "        print(\"*\",end=\"\")\n",
    "    print()"
   ]
  },
  {
   "cell_type": "markdown",
   "id": "e7acab5b",
   "metadata": {},
   "source": [
    "Q. 7) Reverse a while loop to display numbers from 10 to 1."
   ]
  },
  {
   "cell_type": "code",
   "execution_count": 42,
   "id": "719cc0a5",
   "metadata": {},
   "outputs": [
    {
     "name": "stdout",
     "output_type": "stream",
     "text": [
      "10 9 8 7 6 5 4 3 2 1 "
     ]
    }
   ],
   "source": [
    "start=10\n",
    "\n",
    "while start>=1:\n",
    "    print(start,end=\" \")\n",
    "    start-=1"
   ]
  },
  {
   "cell_type": "code",
   "execution_count": null,
   "id": "53347c10",
   "metadata": {},
   "outputs": [],
   "source": []
  }
 ],
 "metadata": {
  "kernelspec": {
   "display_name": "Python 3 (ipykernel)",
   "language": "python",
   "name": "python3"
  },
  "language_info": {
   "codemirror_mode": {
    "name": "ipython",
    "version": 3
   },
   "file_extension": ".py",
   "mimetype": "text/x-python",
   "name": "python",
   "nbconvert_exporter": "python",
   "pygments_lexer": "ipython3",
   "version": "3.9.13"
  }
 },
 "nbformat": 4,
 "nbformat_minor": 5
}
